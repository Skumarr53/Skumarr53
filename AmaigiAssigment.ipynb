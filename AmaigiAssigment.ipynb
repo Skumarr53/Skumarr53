{
 "cells": [
  {
   "cell_type": "code",
   "execution_count": 1,
   "id": "ae7d55a9",
   "metadata": {
    "ExecuteTime": {
     "end_time": "2022-09-04T05:54:49.344700Z",
     "start_time": "2022-09-04T05:54:49.336215Z"
    }
   },
   "outputs": [
    {
     "data": {
      "text/html": [
       "<style>.container { width:100% !important; }</style>"
      ],
      "text/plain": [
       "<IPython.core.display.HTML object>"
      ]
     },
     "metadata": {},
     "output_type": "display_data"
    }
   ],
   "source": [
    "from IPython.display import display, HTML\n",
    "display(HTML(\"<style>.container { width:100% !important; }</style>\"))"
   ]
  },
  {
   "cell_type": "code",
   "execution_count": 41,
   "id": "95addc06",
   "metadata": {
    "ExecuteTime": {
     "end_time": "2022-09-04T07:36:34.366768Z",
     "start_time": "2022-09-04T07:36:34.364814Z"
    }
   },
   "outputs": [],
   "source": [
    "import random \n",
    "from tqdm import tqdm\n",
    "import numpy as np\n",
    "from pdb import set_trace"
   ]
  },
  {
   "cell_type": "code",
   "execution_count": 42,
   "id": "8271a8fa",
   "metadata": {
    "ExecuteTime": {
     "end_time": "2022-09-04T07:36:34.560313Z",
     "start_time": "2022-09-04T07:36:34.557241Z"
    }
   },
   "outputs": [
    {
     "data": {
      "text/plain": [
       "(2, 3)"
      ]
     },
     "execution_count": 42,
     "metadata": {},
     "output_type": "execute_result"
    }
   ],
   "source": [
    "bools = np.random.rand(5)>0.5\n",
    "(bools==True).sum(),(bools==False).sum()"
   ]
  },
  {
   "cell_type": "code",
   "execution_count": 47,
   "id": "1f49a184",
   "metadata": {
    "ExecuteTime": {
     "end_time": "2022-09-04T07:39:15.845718Z",
     "start_time": "2022-09-04T07:39:15.832099Z"
    }
   },
   "outputs": [],
   "source": [
    "def Bacteria_pop_simul(init_pop,n_steps = 10):\n",
    "    \n",
    "    ## initial condition: population starts with a single bacterium of type A_0\n",
    "    \n",
    "\n",
    "    i=0\n",
    "    while i<n_steps:\n",
    "\n",
    "        ####### Baterium count updation at ith minute\n",
    "\n",
    "        ## population will eventually die out blow condithion\n",
    "        if init_pop[\"A0\"]==1 and init_pop[\"A1\"]==0 and (random.random()<=0.07243802):\n",
    "            return {\"A0\":0,\"A1\":0}\n",
    "\n",
    "\n",
    "        curr_A0_pop = init_pop[\"A0\"]\n",
    "        curr_A1_pop = init_pop[\"A1\"]\n",
    "\n",
    "        ith_A0_pop = curr_A0_pop\n",
    "        ith_A1_pop = curr_A1_pop\n",
    "\n",
    "        ## A0/A1 undergoes one of the 2 transformations with equal prob. \n",
    "        ## In other words, Approx, half under goes first senario other half undergoes second.\n",
    "\n",
    "        #### A0 TRANSFORMATIONS: \n",
    "        \n",
    "        ## population split between scenarios (equal probality)\n",
    "        A0_scn_bools = np.random.rand(ith_A0_pop)>0.5\n",
    "        ith_A0_pop_scn1,ith_A0_pop_scn2 = (A0_scn_bools==True).sum(),(A0_scn_bools==False).sum()\n",
    "        \n",
    "        # Scenairo 1: clone itself, resulting in a new bacterium of type A_0\n",
    "        curr_A0_pop+=ith_A0_pop_scn1\n",
    "        \n",
    "        # Scenairo 2: split into 3 new bacteria of type A_1 (replacing a)\n",
    "        curr_A0_pop-=ith_A0_pop_scn2\n",
    "        curr_A1_pop+=3*ith_A0_pop_scn2\n",
    "        \n",
    "            \n",
    "\n",
    "        #### A1 TRANSFORMATIONS:\n",
    "        ## population split between scenarios (equal probality)\n",
    "        A1_scn_bools = np.random.rand(ith_A1_pop)>0.5\n",
    "        ith_A1_pop_scn1,ith_A1_pop_scn2 = (A1_scn_bools==True).sum(),(A1_scn_bools==False).sum()\n",
    "        \n",
    "        # Scenairo 1: spawn a new bacterium of type A_0\n",
    "        curr_A0_pop+=ith_A1_pop_scn1\n",
    "        \n",
    "        # Scenairo 2: die\n",
    "        curr_A1_pop-=ith_A1_pop_scn2\n",
    "\n",
    "        ## Storing population at end of ith min\n",
    "        init_pop[\"A0\"] = curr_A0_pop\n",
    "        init_pop[\"A1\"] = curr_A1_pop\n",
    "\n",
    "        i+=1\n",
    "    return init_pop"
   ]
  },
  {
   "cell_type": "code",
   "execution_count": null,
   "id": "39f2311e",
   "metadata": {
    "ExecuteTime": {
     "start_time": "2022-09-04T07:39:16.637Z"
    }
   },
   "outputs": [
    {
     "name": "stderr",
     "output_type": "stream",
     "text": [
      "  0%|▏                                       | 4/1000 [00:22<2:00:13,  7.24s/it]"
     ]
    }
   ],
   "source": [
    "\n",
    "## \n",
    "init_pop = {\"A0\":1000,\"A1\":100}\n",
    "\n",
    "## number of realizations\n",
    "n_real = 1000\n",
    "\n",
    "## Simulation steps runiing for 500 mins\n",
    "sim_steps = 10\n",
    "\n",
    "count_ = []\n",
    "\n",
    "for i in tqdm(range(n_real)):\n",
    "    count_.append(Bacteria_pop_simul(init_pop,sim_steps))"
   ]
  },
  {
   "cell_type": "code",
   "execution_count": null,
   "id": "0b0fba42",
   "metadata": {
    "ExecuteTime": {
     "start_time": "2022-09-04T07:40:50.499Z"
    },
    "scrolled": false
   },
   "outputs": [],
   "source": [
    "count_"
   ]
  },
  {
   "cell_type": "code",
   "execution_count": null,
   "id": "cc3219f8",
   "metadata": {},
   "outputs": [],
   "source": []
  }
 ],
 "metadata": {
  "kernelspec": {
   "display_name": "Python 3 (ipykernel)",
   "language": "python",
   "name": "python3"
  },
  "language_info": {
   "codemirror_mode": {
    "name": "ipython",
    "version": 3
   },
   "file_extension": ".py",
   "mimetype": "text/x-python",
   "name": "python",
   "nbconvert_exporter": "python",
   "pygments_lexer": "ipython3",
   "version": "3.9.12"
  },
  "toc": {
   "base_numbering": 1,
   "nav_menu": {},
   "number_sections": true,
   "sideBar": true,
   "skip_h1_title": false,
   "title_cell": "Table of Contents",
   "title_sidebar": "Contents",
   "toc_cell": false,
   "toc_position": {},
   "toc_section_display": true,
   "toc_window_display": false
  }
 },
 "nbformat": 4,
 "nbformat_minor": 5
}
